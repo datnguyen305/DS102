{
 "cells": [
  {
   "cell_type": "code",
   "execution_count": 2,
   "metadata": {},
   "outputs": [],
   "source": [
    "import pandas as pd \n",
    "import numpy as np "
   ]
  },
  {
   "cell_type": "code",
   "execution_count": 3,
   "metadata": {},
   "outputs": [],
   "source": [
    "df = pd.read_csv('../databuoi2/data.csv', sep = ';')"
   ]
  },
  {
   "cell_type": "code",
   "execution_count": 4,
   "metadata": {},
   "outputs": [
    {
     "name": "stdout",
     "output_type": "stream",
     "text": [
      "<class 'pandas.core.frame.DataFrame'>\n",
      "RangeIndex: 4424 entries, 0 to 4423\n",
      "Data columns (total 37 columns):\n",
      " #   Column                                          Non-Null Count  Dtype  \n",
      "---  ------                                          --------------  -----  \n",
      " 0   Marital status                                  4424 non-null   int64  \n",
      " 1   Application mode                                4424 non-null   int64  \n",
      " 2   Application order                               4424 non-null   int64  \n",
      " 3   Course                                          4424 non-null   int64  \n",
      " 4   Daytime/evening attendance\t                     4424 non-null   int64  \n",
      " 5   Previous qualification                          4424 non-null   int64  \n",
      " 6   Previous qualification (grade)                  4424 non-null   float64\n",
      " 7   Nacionality                                     4424 non-null   int64  \n",
      " 8   Mother's qualification                          4424 non-null   int64  \n",
      " 9   Father's qualification                          4424 non-null   int64  \n",
      " 10  Mother's occupation                             4424 non-null   int64  \n",
      " 11  Father's occupation                             4424 non-null   int64  \n",
      " 12  Admission grade                                 4424 non-null   float64\n",
      " 13  Displaced                                       4424 non-null   int64  \n",
      " 14  Educational special needs                       4424 non-null   int64  \n",
      " 15  Debtor                                          4424 non-null   int64  \n",
      " 16  Tuition fees up to date                         4424 non-null   int64  \n",
      " 17  Gender                                          4424 non-null   int64  \n",
      " 18  Scholarship holder                              4424 non-null   int64  \n",
      " 19  Age at enrollment                               4424 non-null   int64  \n",
      " 20  International                                   4424 non-null   int64  \n",
      " 21  Curricular units 1st sem (credited)             4424 non-null   int64  \n",
      " 22  Curricular units 1st sem (enrolled)             4424 non-null   int64  \n",
      " 23  Curricular units 1st sem (evaluations)          4424 non-null   int64  \n",
      " 24  Curricular units 1st sem (approved)             4424 non-null   int64  \n",
      " 25  Curricular units 1st sem (grade)                4424 non-null   float64\n",
      " 26  Curricular units 1st sem (without evaluations)  4424 non-null   int64  \n",
      " 27  Curricular units 2nd sem (credited)             4424 non-null   int64  \n",
      " 28  Curricular units 2nd sem (enrolled)             4424 non-null   int64  \n",
      " 29  Curricular units 2nd sem (evaluations)          4424 non-null   int64  \n",
      " 30  Curricular units 2nd sem (approved)             4424 non-null   int64  \n",
      " 31  Curricular units 2nd sem (grade)                4424 non-null   float64\n",
      " 32  Curricular units 2nd sem (without evaluations)  4424 non-null   int64  \n",
      " 33  Unemployment rate                               4424 non-null   float64\n",
      " 34  Inflation rate                                  4424 non-null   float64\n",
      " 35  GDP                                             4424 non-null   float64\n",
      " 36  Target                                          4424 non-null   object \n",
      "dtypes: float64(7), int64(29), object(1)\n",
      "memory usage: 1.2+ MB\n"
     ]
    }
   ],
   "source": [
    "df.info()"
   ]
  },
  {
   "cell_type": "code",
   "execution_count": 5,
   "metadata": {},
   "outputs": [],
   "source": [
    "df1 = df.copy()"
   ]
  },
  {
   "cell_type": "code",
   "execution_count": 6,
   "metadata": {},
   "outputs": [
    {
     "data": {
      "text/plain": [
       "array(['Dropout', 'Graduate', 'Enrolled'], dtype=object)"
      ]
     },
     "execution_count": 6,
     "metadata": {},
     "output_type": "execute_result"
    }
   ],
   "source": [
    "df1['Target'].unique()"
   ]
  },
  {
   "cell_type": "code",
   "execution_count": 7,
   "metadata": {},
   "outputs": [],
   "source": [
    "def encode_target_logis(x): \n",
    "    if x == 'Graduate':\n",
    "        return 1\n",
    "    else:\n",
    "        return 0\n",
    "    \n",
    "df1['Target'] = df['Target'].apply(encode_target_logis)"
   ]
  },
  {
   "cell_type": "code",
   "execution_count": 8,
   "metadata": {},
   "outputs": [
    {
     "data": {
      "text/html": [
       "<div>\n",
       "<style scoped>\n",
       "    .dataframe tbody tr th:only-of-type {\n",
       "        vertical-align: middle;\n",
       "    }\n",
       "\n",
       "    .dataframe tbody tr th {\n",
       "        vertical-align: top;\n",
       "    }\n",
       "\n",
       "    .dataframe thead th {\n",
       "        text-align: right;\n",
       "    }\n",
       "</style>\n",
       "<table border=\"1\" class=\"dataframe\">\n",
       "  <thead>\n",
       "    <tr style=\"text-align: right;\">\n",
       "      <th></th>\n",
       "      <th>Previous qualification (grade)</th>\n",
       "      <th>Admission grade</th>\n",
       "      <th>Curricular units 1st sem (grade)</th>\n",
       "      <th>Curricular units 2nd sem (grade)</th>\n",
       "      <th>Unemployment rate</th>\n",
       "      <th>Inflation rate</th>\n",
       "      <th>GDP</th>\n",
       "    </tr>\n",
       "  </thead>\n",
       "  <tbody>\n",
       "    <tr>\n",
       "      <th>0</th>\n",
       "      <td>-0.804750</td>\n",
       "      <td>0.022226</td>\n",
       "      <td>-2.196854</td>\n",
       "      <td>-1.963267</td>\n",
       "      <td>-0.287606</td>\n",
       "      <td>0.124372</td>\n",
       "      <td>0.765674</td>\n",
       "    </tr>\n",
       "    <tr>\n",
       "      <th>1</th>\n",
       "      <td>2.076585</td>\n",
       "      <td>1.071805</td>\n",
       "      <td>0.693520</td>\n",
       "      <td>0.659487</td>\n",
       "      <td>0.876123</td>\n",
       "      <td>-1.105097</td>\n",
       "      <td>0.347160</td>\n",
       "    </tr>\n",
       "    <tr>\n",
       "      <th>2</th>\n",
       "      <td>-0.804750</td>\n",
       "      <td>-0.150402</td>\n",
       "      <td>-2.196854</td>\n",
       "      <td>-1.963267</td>\n",
       "      <td>-0.287606</td>\n",
       "      <td>0.124372</td>\n",
       "      <td>0.765674</td>\n",
       "    </tr>\n",
       "    <tr>\n",
       "      <th>3</th>\n",
       "      <td>-0.804750</td>\n",
       "      <td>-0.509468</td>\n",
       "      <td>0.575546</td>\n",
       "      <td>0.416403</td>\n",
       "      <td>-0.813161</td>\n",
       "      <td>-1.466705</td>\n",
       "      <td>-1.375356</td>\n",
       "    </tr>\n",
       "    <tr>\n",
       "      <th>4</th>\n",
       "      <td>-2.472892</td>\n",
       "      <td>1.002754</td>\n",
       "      <td>0.349428</td>\n",
       "      <td>0.531548</td>\n",
       "      <td>0.876123</td>\n",
       "      <td>-1.105097</td>\n",
       "      <td>0.347160</td>\n",
       "    </tr>\n",
       "    <tr>\n",
       "      <th>...</th>\n",
       "      <td>...</td>\n",
       "      <td>...</td>\n",
       "      <td>...</td>\n",
       "      <td>...</td>\n",
       "      <td>...</td>\n",
       "      <td>...</td>\n",
       "      <td>...</td>\n",
       "    </tr>\n",
       "    <tr>\n",
       "      <th>4419</th>\n",
       "      <td>-0.577276</td>\n",
       "      <td>-0.329935</td>\n",
       "      <td>0.610938</td>\n",
       "      <td>0.467578</td>\n",
       "      <td>1.476757</td>\n",
       "      <td>1.136876</td>\n",
       "      <td>-1.789464</td>\n",
       "    </tr>\n",
       "    <tr>\n",
       "      <th>4420</th>\n",
       "      <td>-0.956399</td>\n",
       "      <td>-0.550899</td>\n",
       "      <td>0.280610</td>\n",
       "      <td>0.147730</td>\n",
       "      <td>-0.174987</td>\n",
       "      <td>-0.454201</td>\n",
       "      <td>0.889026</td>\n",
       "    </tr>\n",
       "    <tr>\n",
       "      <th>4421</th>\n",
       "      <td>1.621637</td>\n",
       "      <td>1.555164</td>\n",
       "      <td>0.881911</td>\n",
       "      <td>0.627502</td>\n",
       "      <td>0.876123</td>\n",
       "      <td>-1.105097</td>\n",
       "      <td>0.347160</td>\n",
       "    </tr>\n",
       "    <tr>\n",
       "      <th>4422</th>\n",
       "      <td>3.593077</td>\n",
       "      <td>1.852084</td>\n",
       "      <td>0.652229</td>\n",
       "      <td>0.339639</td>\n",
       "      <td>-0.813161</td>\n",
       "      <td>-1.466705</td>\n",
       "      <td>-1.375356</td>\n",
       "    </tr>\n",
       "    <tr>\n",
       "      <th>4423</th>\n",
       "      <td>1.469988</td>\n",
       "      <td>1.727792</td>\n",
       "      <td>0.211791</td>\n",
       "      <td>0.531548</td>\n",
       "      <td>0.425647</td>\n",
       "      <td>1.787772</td>\n",
       "      <td>-0.749787</td>\n",
       "    </tr>\n",
       "  </tbody>\n",
       "</table>\n",
       "<p>4424 rows × 7 columns</p>\n",
       "</div>"
      ],
      "text/plain": [
       "      Previous qualification (grade)  Admission grade  \\\n",
       "0                          -0.804750         0.022226   \n",
       "1                           2.076585         1.071805   \n",
       "2                          -0.804750        -0.150402   \n",
       "3                          -0.804750        -0.509468   \n",
       "4                          -2.472892         1.002754   \n",
       "...                              ...              ...   \n",
       "4419                       -0.577276        -0.329935   \n",
       "4420                       -0.956399        -0.550899   \n",
       "4421                        1.621637         1.555164   \n",
       "4422                        3.593077         1.852084   \n",
       "4423                        1.469988         1.727792   \n",
       "\n",
       "      Curricular units 1st sem (grade)  Curricular units 2nd sem (grade)  \\\n",
       "0                            -2.196854                         -1.963267   \n",
       "1                             0.693520                          0.659487   \n",
       "2                            -2.196854                         -1.963267   \n",
       "3                             0.575546                          0.416403   \n",
       "4                             0.349428                          0.531548   \n",
       "...                                ...                               ...   \n",
       "4419                          0.610938                          0.467578   \n",
       "4420                          0.280610                          0.147730   \n",
       "4421                          0.881911                          0.627502   \n",
       "4422                          0.652229                          0.339639   \n",
       "4423                          0.211791                          0.531548   \n",
       "\n",
       "      Unemployment rate  Inflation rate       GDP  \n",
       "0             -0.287606        0.124372  0.765674  \n",
       "1              0.876123       -1.105097  0.347160  \n",
       "2             -0.287606        0.124372  0.765674  \n",
       "3             -0.813161       -1.466705 -1.375356  \n",
       "4              0.876123       -1.105097  0.347160  \n",
       "...                 ...             ...       ...  \n",
       "4419           1.476757        1.136876 -1.789464  \n",
       "4420          -0.174987       -0.454201  0.889026  \n",
       "4421           0.876123       -1.105097  0.347160  \n",
       "4422          -0.813161       -1.466705 -1.375356  \n",
       "4423           0.425647        1.787772 -0.749787  \n",
       "\n",
       "[4424 rows x 7 columns]"
      ]
     },
     "execution_count": 8,
     "metadata": {},
     "output_type": "execute_result"
    }
   ],
   "source": [
    "def z_score(x): \n",
    "    return (x - x.mean()) / x.std()\n",
    "\n",
    "continous_feature = ['Previous qualification (grade)', 'Admission grade', 'Curricular units 1st sem (grade)','Curricular units 2nd sem (grade)', 'Unemployment rate','Inflation rate','GDP']\n",
    "\n",
    "df1[continous_feature].apply(z_score)\n"
   ]
  },
  {
   "cell_type": "code",
   "execution_count": 9,
   "metadata": {},
   "outputs": [
    {
     "data": {
      "text/plain": [
       "0       0\n",
       "1       1\n",
       "2       0\n",
       "3       1\n",
       "4       1\n",
       "       ..\n",
       "4419    1\n",
       "4420    0\n",
       "4421    0\n",
       "4422    1\n",
       "4423    1\n",
       "Name: Target, Length: 4424, dtype: int64"
      ]
     },
     "execution_count": 9,
     "metadata": {},
     "output_type": "execute_result"
    }
   ],
   "source": [
    "df1['Target']"
   ]
  },
  {
   "cell_type": "code",
   "execution_count": 10,
   "metadata": {
    "vscode": {
     "languageId": "javascript"
    }
   },
   "outputs": [
    {
     "name": "stdout",
     "output_type": "stream",
     "text": [
      "      Course_33  Course_171  Course_8014  Course_9003  Course_9070  \\\n",
      "0             0           1            0            0            0   \n",
      "1             0           0            0            0            0   \n",
      "2             0           0            0            0            1   \n",
      "3             0           0            0            0            0   \n",
      "4             0           0            1            0            0   \n",
      "...         ...         ...          ...          ...          ...   \n",
      "4419          0           0            0            0            0   \n",
      "4420          0           0            0            0            0   \n",
      "4421          0           0            0            0            0   \n",
      "4422          0           0            0            0            0   \n",
      "4423          0           0            0            0            0   \n",
      "\n",
      "      Course_9085  Course_9119  Course_9130  Course_9147  Course_9238  \\\n",
      "0               0            0            0            0            0   \n",
      "1               0            0            0            0            0   \n",
      "2               0            0            0            0            0   \n",
      "3               0            0            0            0            0   \n",
      "4               0            0            0            0            0   \n",
      "...           ...          ...          ...          ...          ...   \n",
      "4419            0            0            0            0            0   \n",
      "4420            0            0            0            0            0   \n",
      "4421            0            0            0            0            0   \n",
      "4422            0            0            0            1            0   \n",
      "4423            0            0            0            0            0   \n",
      "\n",
      "      Course_9254  Course_9500  Course_9556  Course_9670  Course_9773  \\\n",
      "0               0            0            0            0            0   \n",
      "1               1            0            0            0            0   \n",
      "2               0            0            0            0            0   \n",
      "3               0            0            0            0            1   \n",
      "4               0            0            0            0            0   \n",
      "...           ...          ...          ...          ...          ...   \n",
      "4419            0            0            0            0            1   \n",
      "4420            0            0            0            0            1   \n",
      "4421            0            1            0            0            0   \n",
      "4422            0            0            0            0            0   \n",
      "4423            0            0            0            0            1   \n",
      "\n",
      "      Course_9853  Course_9991  \n",
      "0               0            0  \n",
      "1               0            0  \n",
      "2               0            0  \n",
      "3               0            0  \n",
      "4               0            0  \n",
      "...           ...          ...  \n",
      "4419            0            0  \n",
      "4420            0            0  \n",
      "4421            0            0  \n",
      "4422            0            0  \n",
      "4423            0            0  \n",
      "\n",
      "[4424 rows x 17 columns]\n"
     ]
    }
   ],
   "source": [
    "df_onehot_course = pd.get_dummies(df1['Course'], prefix='Course').astype('int64')\n",
    "print(df_onehot_course)\n",
    "df1 = pd.concat([df1, df_onehot_course], axis=1)\n",
    "df1 = df1.drop('Course', axis=1)"
   ]
  },
  {
   "cell_type": "code",
   "execution_count": 11,
   "metadata": {},
   "outputs": [
    {
     "name": "stdout",
     "output_type": "stream",
     "text": [
      "Index(['Marital status', 'Application mode', 'Application order',\n",
      "       'Daytime/evening attendance\\t', 'Previous qualification',\n",
      "       'Previous qualification (grade)', 'Nacionality',\n",
      "       'Mother's qualification', 'Father's qualification',\n",
      "       'Mother's occupation', 'Father's occupation', 'Admission grade',\n",
      "       'Displaced', 'Educational special needs', 'Debtor',\n",
      "       'Tuition fees up to date', 'Gender', 'Scholarship holder',\n",
      "       'Age at enrollment', 'International',\n",
      "       'Curricular units 1st sem (credited)',\n",
      "       'Curricular units 1st sem (enrolled)',\n",
      "       'Curricular units 1st sem (evaluations)',\n",
      "       'Curricular units 1st sem (approved)',\n",
      "       'Curricular units 1st sem (grade)',\n",
      "       'Curricular units 1st sem (without evaluations)',\n",
      "       'Curricular units 2nd sem (credited)',\n",
      "       'Curricular units 2nd sem (enrolled)',\n",
      "       'Curricular units 2nd sem (evaluations)',\n",
      "       'Curricular units 2nd sem (approved)',\n",
      "       'Curricular units 2nd sem (grade)',\n",
      "       'Curricular units 2nd sem (without evaluations)', 'Unemployment rate',\n",
      "       'Inflation rate', 'GDP', 'Target', 'Course_33', 'Course_171',\n",
      "       'Course_8014', 'Course_9003', 'Course_9070', 'Course_9085',\n",
      "       'Course_9119', 'Course_9130', 'Course_9147', 'Course_9238',\n",
      "       'Course_9254', 'Course_9500', 'Course_9556', 'Course_9670',\n",
      "       'Course_9773', 'Course_9853', 'Course_9991'],\n",
      "      dtype='object')\n"
     ]
    }
   ],
   "source": [
    "print(df1.columns)"
   ]
  },
  {
   "cell_type": "code",
   "execution_count": 12,
   "metadata": {},
   "outputs": [
    {
     "data": {
      "image/png": "[encoded data removed]",
      "text/plain": [
       "<Figure size 1000x800 with 2 Axes>"
      ]
     },
     "metadata": {},
     "output_type": "display_data"
    }
   ],
   "source": [
    "import seaborn as sns\n",
    "\n",
    "import matplotlib.pyplot as plt\n",
    "\n",
    "correlation_matrix = df1[continous_feature].corr()\n",
    "\n",
    "plt.figure(figsize=(10, 8))\n",
    "sns.heatmap(correlation_matrix, annot=True, fmt=\".2f\", cmap=\"coolwarm\", cbar=True)\n",
    "plt.title(\"Correlation Matrix of Continuous Features\")\n",
    "plt.show()"
   ]
  },
  {
   "cell_type": "code",
   "execution_count": 13,
   "metadata": {},
   "outputs": [],
   "source": [
    "df1.drop('Curricular units 1st sem (grade)', axis=1, inplace=True)"
   ]
  },
  {
   "cell_type": "code",
   "execution_count": 14,
   "metadata": {},
   "outputs": [
    {
     "name": "stdout",
     "output_type": "stream",
     "text": [
      "<class 'pandas.core.frame.DataFrame'>\n",
      "RangeIndex: 4424 entries, 0 to 4423\n",
      "Data columns (total 52 columns):\n",
      " #   Column                                          Non-Null Count  Dtype  \n",
      "---  ------                                          --------------  -----  \n",
      " 0   Marital status                                  4424 non-null   int64  \n",
      " 1   Application mode                                4424 non-null   int64  \n",
      " 2   Application order                               4424 non-null   int64  \n",
      " 3   Daytime/evening attendance\t                     4424 non-null   int64  \n",
      " 4   Previous qualification                          4424 non-null   int64  \n",
      " 5   Previous qualification (grade)                  4424 non-null   float64\n",
      " 6   Nacionality                                     4424 non-null   int64  \n",
      " 7   Mother's qualification                          4424 non-null   int64  \n",
      " 8   Father's qualification                          4424 non-null   int64  \n",
      " 9   Mother's occupation                             4424 non-null   int64  \n",
      " 10  Father's occupation                             4424 non-null   int64  \n",
      " 11  Admission grade                                 4424 non-null   float64\n",
      " 12  Displaced                                       4424 non-null   int64  \n",
      " 13  Educational special needs                       4424 non-null   int64  \n",
      " 14  Debtor                                          4424 non-null   int64  \n",
      " 15  Tuition fees up to date                         4424 non-null   int64  \n",
      " 16  Gender                                          4424 non-null   int64  \n",
      " 17  Scholarship holder                              4424 non-null   int64  \n",
      " 18  Age at enrollment                               4424 non-null   int64  \n",
      " 19  International                                   4424 non-null   int64  \n",
      " 20  Curricular units 1st sem (credited)             4424 non-null   int64  \n",
      " 21  Curricular units 1st sem (enrolled)             4424 non-null   int64  \n",
      " 22  Curricular units 1st sem (evaluations)          4424 non-null   int64  \n",
      " 23  Curricular units 1st sem (approved)             4424 non-null   int64  \n",
      " 24  Curricular units 1st sem (without evaluations)  4424 non-null   int64  \n",
      " 25  Curricular units 2nd sem (credited)             4424 non-null   int64  \n",
      " 26  Curricular units 2nd sem (enrolled)             4424 non-null   int64  \n",
      " 27  Curricular units 2nd sem (evaluations)          4424 non-null   int64  \n",
      " 28  Curricular units 2nd sem (approved)             4424 non-null   int64  \n",
      " 29  Curricular units 2nd sem (grade)                4424 non-null   float64\n",
      " 30  Curricular units 2nd sem (without evaluations)  4424 non-null   int64  \n",
      " 31  Unemployment rate                               4424 non-null   float64\n",
      " 32  Inflation rate                                  4424 non-null   float64\n",
      " 33  GDP                                             4424 non-null   float64\n",
      " 34  Target                                          4424 non-null   int64  \n",
      " 35  Course_33                                       4424 non-null   int64  \n",
      " 36  Course_171                                      4424 non-null   int64  \n",
      " 37  Course_8014                                     4424 non-null   int64  \n",
      " 38  Course_9003                                     4424 non-null   int64  \n",
      " 39  Course_9070                                     4424 non-null   int64  \n",
      " 40  Course_9085                                     4424 non-null   int64  \n",
      " 41  Course_9119                                     4424 non-null   int64  \n",
      " 42  Course_9130                                     4424 non-null   int64  \n",
      " 43  Course_9147                                     4424 non-null   int64  \n",
      " 44  Course_9238                                     4424 non-null   int64  \n",
      " 45  Course_9254                                     4424 non-null   int64  \n",
      " 46  Course_9500                                     4424 non-null   int64  \n",
      " 47  Course_9556                                     4424 non-null   int64  \n",
      " 48  Course_9670                                     4424 non-null   int64  \n",
      " 49  Course_9773                                     4424 non-null   int64  \n",
      " 50  Course_9853                                     4424 non-null   int64  \n",
      " 51  Course_9991                                     4424 non-null   int64  \n",
      "dtypes: float64(6), int64(46)\n",
      "memory usage: 1.8 MB\n"
     ]
    }
   ],
   "source": [
    "df1.info()"
   ]
  },
  {
   "cell_type": "code",
   "execution_count": 15,
   "metadata": {},
   "outputs": [
    {
     "name": "stdout",
     "output_type": "stream",
     "text": [
      "Index(['Marital status', 'Application mode', 'Application order',\n",
      "       'Daytime/evening attendance\\t', 'Previous qualification',\n",
      "       'Previous qualification (grade)', 'Nacionality',\n",
      "       'Mother's qualification', 'Father's qualification',\n",
      "       'Mother's occupation', 'Father's occupation', 'Admission grade',\n",
      "       'Displaced', 'Educational special needs', 'Debtor',\n",
      "       'Tuition fees up to date', 'Gender', 'Scholarship holder',\n",
      "       'Age at enrollment', 'International',\n",
      "       'Curricular units 1st sem (credited)',\n",
      "       'Curricular units 1st sem (enrolled)',\n",
      "       'Curricular units 1st sem (evaluations)',\n",
      "       'Curricular units 1st sem (approved)',\n",
      "       'Curricular units 1st sem (without evaluations)',\n",
      "       'Curricular units 2nd sem (credited)',\n",
      "       'Curricular units 2nd sem (enrolled)',\n",
      "       'Curricular units 2nd sem (evaluations)',\n",
      "       'Curricular units 2nd sem (approved)',\n",
      "       'Curricular units 2nd sem (grade)',\n",
      "       'Curricular units 2nd sem (without evaluations)', 'Unemployment rate',\n",
      "       'Inflation rate', 'GDP', 'Target', 'Course_33', 'Course_171',\n",
      "       'Course_8014', 'Course_9003', 'Course_9070', 'Course_9085',\n",
      "       'Course_9119', 'Course_9130', 'Course_9147', 'Course_9238',\n",
      "       'Course_9254', 'Course_9500', 'Course_9556', 'Course_9670',\n",
      "       'Course_9773', 'Course_9853', 'Course_9991'],\n",
      "      dtype='object')\n"
     ]
    }
   ],
   "source": [
    "X = df1.iloc[:, :]\n",
    "print(X.columns)\n",
    "\n",
    "X.drop('Target', axis=1, inplace=True)\n"
   ]
  },
  {
   "cell_type": "code",
   "execution_count": 16,
   "metadata": {},
   "outputs": [],
   "source": [
    "y = df1.iloc[:, 34]"
   ]
  },
  {
   "cell_type": "code",
   "execution_count": 17,
   "metadata": {},
   "outputs": [
    {
     "name": "stdout",
     "output_type": "stream",
     "text": [
      "0       0\n",
      "1       1\n",
      "2       0\n",
      "3       1\n",
      "4       1\n",
      "       ..\n",
      "4419    1\n",
      "4420    0\n",
      "4421    0\n",
      "4422    1\n",
      "4423    1\n",
      "Name: Target, Length: 4424, dtype: int64\n"
     ]
    }
   ],
   "source": [
    "print(y)"
   ]
  },
  {
   "cell_type": "code",
   "execution_count": 18,
   "metadata": {},
   "outputs": [],
   "source": [
    "X = X.to_numpy()"
   ]
  },
  {
   "cell_type": "code",
   "execution_count": 19,
   "metadata": {},
   "outputs": [
    {
     "name": "stdout",
     "output_type": "stream",
     "text": [
      "(4424, 51)\n"
     ]
    }
   ],
   "source": [
    "print(X.shape)"
   ]
  },
  {
   "cell_type": "code",
   "execution_count": 20,
   "metadata": {},
   "outputs": [],
   "source": [
    "y = y.to_numpy().reshape(-1,1)"
   ]
  },
  {
   "cell_type": "code",
   "execution_count": 21,
   "metadata": {},
   "outputs": [
    {
     "name": "stdout",
     "output_type": "stream",
     "text": [
      "(4424, 1)\n"
     ]
    }
   ],
   "source": [
    "print(y.shape)"
   ]
  },
  {
   "cell_type": "code",
   "execution_count": 22,
   "metadata": {},
   "outputs": [],
   "source": [
    "from tqdm import tqdm\n",
    "\n",
    "class LogisticRegression: \n",
    "    def __init__ (self, epoch, lr):\n",
    "        self.epoch = epoch\n",
    "        self.lr = lr\n",
    "        self.loses = []\n",
    "        self.metrics = []\n",
    "    \n",
    "    def sigmoid(self, z):\n",
    "        \n",
    "        return 1 / (1 + np.exp(-z))\n",
    "    \n",
    "    def loss_fn(self, y, y_hat):\n",
    "        return -(y * np.log(y_hat + 1e-6) + (1 - y) * np.log(1 - y_hat + 1e-6)).mean()\n",
    "    \n",
    "    def accuracy(self, y, y_hat):\n",
    "        return np.mean(1-np.abs(y-y_hat))\n",
    "    \n",
    "    def fit(self, X, y):\n",
    "        n = X.shape[0]\n",
    "        d = X.shape[1]\n",
    "        self.theta = np.zeros((d, 1))\n",
    "        with tqdm(range(self.epoch)) as pb:\n",
    "            for e in pb: \n",
    "                pb.set_description(f\"Epoch {e+1}/{self.epoch}\")\n",
    "                y_hat = self.predict(X)\n",
    "\n",
    "                diff = y_hat - y\n",
    "                gradient = 1/n * np.matmul(X.T, (diff))\n",
    "                self.theta -= self.lr * gradient\n",
    "\n",
    "                y_hat = self.predict(X)\n",
    "                loss = self.loss_fn(y, y_hat)\n",
    "                acc = self.accuracy(y, y_hat)\n",
    "                pb.set_postfix(\n",
    "                    {\n",
    "                        'loss': loss,\n",
    "                        'accuracy': acc\n",
    "                    }\n",
    "                )\n",
    "\n",
    "                self.loses.append(loss)\n",
    "                self.metrics.append(acc)\n",
    "    \n",
    "    def predict(self, X):\n",
    "        z = np.matmul(X, self.theta)\n",
    "        y_hat = self.sigmoid(z)\n",
    "        return y_hat \n",
    "\n"
   ]
  },
  {
   "cell_type": "code",
   "execution_count": 23,
   "metadata": {},
   "outputs": [
    {
     "name": "stderr",
     "output_type": "stream",
     "text": [
      "Epoch 2/100:   0%|          | 0/100 [00:00<?, ?it/s, loss=3.36, accuracy=0.506]C:\\Users\\NewDat\\AppData\\Local\\Temp\\ipykernel_17756\\2706375570.py:12: RuntimeWarning: overflow encountered in exp\n",
      "  return 1 / (1 + np.exp(-z))\n",
      "Epoch 100/100: 100%|██████████| 100/100 [00:00<00:00, 204.77it/s, loss=6.75, accuracy=0.505]\n"
     ]
    }
   ],
   "source": [
    "log_res = LogisticRegression(epoch=100, lr=0.05)\n",
    "log_res.fit(X, y)"
   ]
  },
  {
   "cell_type": "code",
   "execution_count": 24,
   "metadata": {},
   "outputs": [
    {
     "data": {
      "text/html": [
       "<div>\n",
       "<style scoped>\n",
       "    .dataframe tbody tr th:only-of-type {\n",
       "        vertical-align: middle;\n",
       "    }\n",
       "\n",
       "    .dataframe tbody tr th {\n",
       "        vertical-align: top;\n",
       "    }\n",
       "\n",
       "    .dataframe thead th {\n",
       "        text-align: right;\n",
       "    }\n",
       "</style>\n",
       "<table border=\"1\" class=\"dataframe\">\n",
       "  <thead>\n",
       "    <tr style=\"text-align: right;\">\n",
       "      <th></th>\n",
       "      <th>Marital status</th>\n",
       "      <th>Application mode</th>\n",
       "      <th>Application order</th>\n",
       "      <th>Course</th>\n",
       "      <th>Daytime/evening attendance\\t</th>\n",
       "      <th>Previous qualification</th>\n",
       "      <th>Previous qualification (grade)</th>\n",
       "      <th>Nacionality</th>\n",
       "      <th>Mother's qualification</th>\n",
       "      <th>Father's qualification</th>\n",
       "      <th>...</th>\n",
       "      <th>Curricular units 2nd sem (credited)</th>\n",
       "      <th>Curricular units 2nd sem (enrolled)</th>\n",
       "      <th>Curricular units 2nd sem (evaluations)</th>\n",
       "      <th>Curricular units 2nd sem (approved)</th>\n",
       "      <th>Curricular units 2nd sem (grade)</th>\n",
       "      <th>Curricular units 2nd sem (without evaluations)</th>\n",
       "      <th>Unemployment rate</th>\n",
       "      <th>Inflation rate</th>\n",
       "      <th>GDP</th>\n",
       "      <th>Target</th>\n",
       "    </tr>\n",
       "  </thead>\n",
       "  <tbody>\n",
       "    <tr>\n",
       "      <th>0</th>\n",
       "      <td>1</td>\n",
       "      <td>17</td>\n",
       "      <td>5</td>\n",
       "      <td>171</td>\n",
       "      <td>1</td>\n",
       "      <td>1</td>\n",
       "      <td>122.0</td>\n",
       "      <td>1</td>\n",
       "      <td>19</td>\n",
       "      <td>12</td>\n",
       "      <td>...</td>\n",
       "      <td>0</td>\n",
       "      <td>0</td>\n",
       "      <td>0</td>\n",
       "      <td>0</td>\n",
       "      <td>0.000000</td>\n",
       "      <td>0</td>\n",
       "      <td>10.8</td>\n",
       "      <td>1.4</td>\n",
       "      <td>1.74</td>\n",
       "      <td>Dropout</td>\n",
       "    </tr>\n",
       "    <tr>\n",
       "      <th>1</th>\n",
       "      <td>1</td>\n",
       "      <td>15</td>\n",
       "      <td>1</td>\n",
       "      <td>9254</td>\n",
       "      <td>1</td>\n",
       "      <td>1</td>\n",
       "      <td>160.0</td>\n",
       "      <td>1</td>\n",
       "      <td>1</td>\n",
       "      <td>3</td>\n",
       "      <td>...</td>\n",
       "      <td>0</td>\n",
       "      <td>6</td>\n",
       "      <td>6</td>\n",
       "      <td>6</td>\n",
       "      <td>13.666667</td>\n",
       "      <td>0</td>\n",
       "      <td>13.9</td>\n",
       "      <td>-0.3</td>\n",
       "      <td>0.79</td>\n",
       "      <td>Graduate</td>\n",
       "    </tr>\n",
       "    <tr>\n",
       "      <th>2</th>\n",
       "      <td>1</td>\n",
       "      <td>1</td>\n",
       "      <td>5</td>\n",
       "      <td>9070</td>\n",
       "      <td>1</td>\n",
       "      <td>1</td>\n",
       "      <td>122.0</td>\n",
       "      <td>1</td>\n",
       "      <td>37</td>\n",
       "      <td>37</td>\n",
       "      <td>...</td>\n",
       "      <td>0</td>\n",
       "      <td>6</td>\n",
       "      <td>0</td>\n",
       "      <td>0</td>\n",
       "      <td>0.000000</td>\n",
       "      <td>0</td>\n",
       "      <td>10.8</td>\n",
       "      <td>1.4</td>\n",
       "      <td>1.74</td>\n",
       "      <td>Dropout</td>\n",
       "    </tr>\n",
       "    <tr>\n",
       "      <th>3</th>\n",
       "      <td>1</td>\n",
       "      <td>17</td>\n",
       "      <td>2</td>\n",
       "      <td>9773</td>\n",
       "      <td>1</td>\n",
       "      <td>1</td>\n",
       "      <td>122.0</td>\n",
       "      <td>1</td>\n",
       "      <td>38</td>\n",
       "      <td>37</td>\n",
       "      <td>...</td>\n",
       "      <td>0</td>\n",
       "      <td>6</td>\n",
       "      <td>10</td>\n",
       "      <td>5</td>\n",
       "      <td>12.400000</td>\n",
       "      <td>0</td>\n",
       "      <td>9.4</td>\n",
       "      <td>-0.8</td>\n",
       "      <td>-3.12</td>\n",
       "      <td>Graduate</td>\n",
       "    </tr>\n",
       "    <tr>\n",
       "      <th>4</th>\n",
       "      <td>2</td>\n",
       "      <td>39</td>\n",
       "      <td>1</td>\n",
       "      <td>8014</td>\n",
       "      <td>0</td>\n",
       "      <td>1</td>\n",
       "      <td>100.0</td>\n",
       "      <td>1</td>\n",
       "      <td>37</td>\n",
       "      <td>38</td>\n",
       "      <td>...</td>\n",
       "      <td>0</td>\n",
       "      <td>6</td>\n",
       "      <td>6</td>\n",
       "      <td>6</td>\n",
       "      <td>13.000000</td>\n",
       "      <td>0</td>\n",
       "      <td>13.9</td>\n",
       "      <td>-0.3</td>\n",
       "      <td>0.79</td>\n",
       "      <td>Graduate</td>\n",
       "    </tr>\n",
       "  </tbody>\n",
       "</table>\n",
       "<p>5 rows × 37 columns</p>\n",
       "</div>"
      ],
      "text/plain": [
       "   Marital status  Application mode  Application order  Course  \\\n",
       "0               1                17                  5     171   \n",
       "1               1                15                  1    9254   \n",
       "2               1                 1                  5    9070   \n",
       "3               1                17                  2    9773   \n",
       "4               2                39                  1    8014   \n",
       "\n",
       "   Daytime/evening attendance\\t  Previous qualification  \\\n",
       "0                             1                       1   \n",
       "1                             1                       1   \n",
       "2                             1                       1   \n",
       "3                             1                       1   \n",
       "4                             0                       1   \n",
       "\n",
       "   Previous qualification (grade)  Nacionality  Mother's qualification  \\\n",
       "0                           122.0            1                      19   \n",
       "1                           160.0            1                       1   \n",
       "2                           122.0            1                      37   \n",
       "3                           122.0            1                      38   \n",
       "4                           100.0            1                      37   \n",
       "\n",
       "   Father's qualification  ...  Curricular units 2nd sem (credited)  \\\n",
       "0                      12  ...                                    0   \n",
       "1                       3  ...                                    0   \n",
       "2                      37  ...                                    0   \n",
       "3                      37  ...                                    0   \n",
       "4                      38  ...                                    0   \n",
       "\n",
       "   Curricular units 2nd sem (enrolled)  \\\n",
       "0                                    0   \n",
       "1                                    6   \n",
       "2                                    6   \n",
       "3                                    6   \n",
       "4                                    6   \n",
       "\n",
       "   Curricular units 2nd sem (evaluations)  \\\n",
       "0                                       0   \n",
       "1                                       6   \n",
       "2                                       0   \n",
       "3                                      10   \n",
       "4                                       6   \n",
       "\n",
       "   Curricular units 2nd sem (approved)  Curricular units 2nd sem (grade)  \\\n",
       "0                                    0                          0.000000   \n",
       "1                                    6                         13.666667   \n",
       "2                                    0                          0.000000   \n",
       "3                                    5                         12.400000   \n",
       "4                                    6                         13.000000   \n",
       "\n",
       "   Curricular units 2nd sem (without evaluations)  Unemployment rate  \\\n",
       "0                                               0               10.8   \n",
       "1                                               0               13.9   \n",
       "2                                               0               10.8   \n",
       "3                                               0                9.4   \n",
       "4                                               0               13.9   \n",
       "\n",
       "   Inflation rate   GDP    Target  \n",
       "0             1.4  1.74   Dropout  \n",
       "1            -0.3  0.79  Graduate  \n",
       "2             1.4  1.74   Dropout  \n",
       "3            -0.8 -3.12  Graduate  \n",
       "4            -0.3  0.79  Graduate  \n",
       "\n",
       "[5 rows x 37 columns]"
      ]
     },
     "execution_count": 24,
     "metadata": {},
     "output_type": "execute_result"
    }
   ],
   "source": [
    "df.head()"
   ]
  },
  {
   "cell_type": "code",
   "execution_count": 25,
   "metadata": {},
   "outputs": [],
   "source": [
    "df2 = df.copy()"
   ]
  },
  {
   "cell_type": "code",
   "execution_count": 26,
   "metadata": {},
   "outputs": [],
   "source": [
    "def encode_target(x):\n",
    "    if x == 'Enrolled':\n",
    "        return (1,0,0)\n",
    "    elif x == 'Graduate':\n",
    "        return (0,1,0)\n",
    "    else:\n",
    "        return (0,0,1)"
   ]
  },
  {
   "cell_type": "code",
   "execution_count": 27,
   "metadata": {},
   "outputs": [
    {
     "name": "stdout",
     "output_type": "stream",
     "text": [
      "(4424, 36)\n"
     ]
    }
   ],
   "source": [
    "X = df2.iloc[:, :]\n",
    "\n",
    "X.drop('Target', axis=1, inplace=True)\n",
    "X = X.to_numpy()\n",
    "print(X.shape)"
   ]
  },
  {
   "cell_type": "code",
   "execution_count": 28,
   "metadata": {},
   "outputs": [],
   "source": [
    "y = df2.iloc[:, -1]"
   ]
  },
  {
   "cell_type": "code",
   "execution_count": 29,
   "metadata": {},
   "outputs": [
    {
     "name": "stdout",
     "output_type": "stream",
     "text": [
      "0        Dropout\n",
      "1       Graduate\n",
      "2        Dropout\n",
      "3       Graduate\n",
      "4       Graduate\n",
      "          ...   \n",
      "4419    Graduate\n",
      "4420     Dropout\n",
      "4421     Dropout\n",
      "4422    Graduate\n",
      "4423    Graduate\n",
      "Name: Target, Length: 4424, dtype: object\n"
     ]
    }
   ],
   "source": [
    "print(y)"
   ]
  },
  {
   "cell_type": "code",
   "execution_count": 30,
   "metadata": {},
   "outputs": [],
   "source": [
    "y = df2.iloc[:, -1].apply(encode_target)\n",
    "y=y.to_numpy()\n",
    "oh_y = np.zeros((y.shape[0], 3))\n",
    "for i in range(y.shape[0]):\n",
    "    oh_y[i, y[i]] = 1 "
   ]
  },
  {
   "cell_type": "code",
   "execution_count": null,
   "metadata": {},
   "outputs": [],
   "source": []
  },
  {
   "cell_type": "code",
   "execution_count": 31,
   "metadata": {},
   "outputs": [],
   "source": [
    "class SoftmaxRegression: \n",
    "    def __init__(self, epoch, lr):\n",
    "        self.epoch = epoch \n",
    "        self.lr = lr \n",
    "        self.losses = []\n",
    "        self.metrics = []\n",
    "\n",
    "    def softmax(self, z): \n",
    "        return np.exp(z) / np.sum(np.exp(z), axis=0)\n",
    "    \n",
    "    def loss_fn(self, y, y_hat):\n",
    "        return -(y * np.log(y_hat + 1e-6)).sum(axis=-1).mean()\n",
    "    \n",
    "    def accuracy(self, y, y_hat):\n",
    "        return (1-np.abs(y-y_hat)).mean()\n",
    "    \n",
    "    def fit(self, X, y):\n",
    "        n = X.shape[0]\n",
    "        d = X.shape[1]\n",
    "        n_classes = y.shape[-1]\n",
    "        self.theta = np.zeros((d, n_classes))\n",
    "        with tqdm(range(self.epoch)) as pb:\n",
    "            for e in pb: \n",
    "                pb.set_description(f\"Epoch {e+1}/{self.epoch}\")\n",
    "                s = self.predict(X)\n",
    "\n",
    "                diff = s - y\n",
    "                gradient = 1/n * np.matmul(X.T, (diff))\n",
    "                self.theta -= self.lr * gradient\n",
    "\n",
    "                s = self.predict(X)\n",
    "                loss = self.loss_fn(y.argmax(axis = 1), s.argmax(axis = 1))\n",
    "                acc = self.accuracy(y.argmax(axis = 1), s.argmax(axis = 1))\n",
    "                pb.set_postfix(\n",
    "                    {\n",
    "                        'loss': loss,\n",
    "                        'accuracy': acc\n",
    "                    }\n",
    "                )\n",
    "\n",
    "                self.losses.append(loss)\n",
    "                self.metrics.append(acc)\n",
    "\n",
    "    def predict(self, X):\n",
    "        z = np.matmul(X, self.theta)\n",
    "        y_hat = self.softmax(z)\n",
    "        return y_hat\n",
    "    \n",
    "\n",
    "\n"
   ]
  },
  {
   "cell_type": "code",
   "execution_count": 32,
   "metadata": {},
   "outputs": [
    {
     "name": "stderr",
     "output_type": "stream",
     "text": [
      "Epoch 1/100:   0%|          | 0/100 [00:00<?, ?it/s]C:\\Users\\NewDat\\AppData\\Local\\Temp\\ipykernel_17756\\2727495351.py:9: RuntimeWarning: overflow encountered in exp\n",
      "  return np.exp(z) / np.sum(np.exp(z), axis=0)\n",
      "C:\\Users\\NewDat\\AppData\\Local\\Temp\\ipykernel_17756\\2727495351.py:9: RuntimeWarning: invalid value encountered in divide\n",
      "  return np.exp(z) / np.sum(np.exp(z), axis=0)\n",
      "Epoch 100/100: 100%|██████████| 100/100 [00:00<00:00, 159.23it/s, loss=-0, accuracy=1]\n"
     ]
    }
   ],
   "source": [
    "softmax = SoftmaxRegression(epoch=100, lr=0.05)\n",
    "softmax.fit(X, oh_y)"
   ]
  },
  {
   "cell_type": "markdown",
   "metadata": {},
   "source": [
    "## Don't judge me :D, em ngồi tìm code one hot encoder nhưng mà hăng quá, quên mất là chỉ có 2 nhãn thì không cần "
   ]
  },
  {
   "cell_type": "code",
   "execution_count": 37,
   "metadata": {},
   "outputs": [
    {
     "name": "stdout",
     "output_type": "stream",
     "text": [
      "[0 0 1 ... 1 1 0]\n",
      "Độ chính xác: 83.73%\n"
     ]
    },
    {
     "name": "stderr",
     "output_type": "stream",
     "text": [
      "c:\\Users\\NewDat\\Miniconda3\\Lib\\site-packages\\sklearn\\linear_model\\_logistic.py:465: ConvergenceWarning: lbfgs failed to converge (status=1):\n",
      "STOP: TOTAL NO. of ITERATIONS REACHED LIMIT.\n",
      "\n",
      "Increase the number of iterations (max_iter) or scale the data as shown in:\n",
      "    https://scikit-learn.org/stable/modules/preprocessing.html\n",
      "Please also refer to the documentation for alternative solver options:\n",
      "    https://scikit-learn.org/stable/modules/linear_model.html#logistic-regression\n",
      "  n_iter_i = _check_optimize_result(\n"
     ]
    }
   ],
   "source": [
    "from sklearn.linear_model import LogisticRegression\n",
    "from sklearn.model_selection import train_test_split\n",
    "from sklearn.preprocessing import OneHotEncoder\n",
    "from sklearn.metrics import accuracy_score\n",
    "\n",
    "df3 = df.copy()\n",
    "\n",
    "df3['Target'] = df3['Target'].apply(encode_target_logis)\n",
    "df3[continous_feature] = df3[continous_feature].apply(z_score)\n",
    "\n",
    "encoder = OneHotEncoder(sparse_output=False)  \n",
    "\n",
    "x_course_encoded = encoder.fit_transform(df3[['Course']])\n",
    "df3 = df3.drop(columns=['Course'])\n",
    "df3 = pd.concat([df3, pd.DataFrame(x_course_encoded, columns=encoder.get_feature_names_out(['Course']))], axis=1)\n",
    "\n",
    "y_encoded = encoder.fit_transform(df3[['Target']])\n",
    "\n",
    "df3.drop('Target', axis=1, inplace=True)\n",
    "X = df3.to_numpy()\n",
    "y = y_encoded\n",
    "\n",
    "X_train, X_test, y_train, y_test = train_test_split(X, y_encoded, test_size=0.2, random_state=42)\n",
    "\n",
    "y_train_labels = y_train.argmax(axis=1)  \n",
    "y_test_labels = y_test.argmax(axis=1)\n",
    "\n",
    "print(y_train_labels)\n",
    "\n",
    "model = LogisticRegression()\n",
    "model.fit(X_train, y_train_labels)\n",
    "\n",
    "# Dự đoán\n",
    "y_pred = model.predict(X_test)\n",
    "\n",
    "# Đánh giá mô hình\n",
    "acc = accuracy_score(y_test_labels, y_pred)\n",
    "print(f\"Độ chính xác: {acc*100:.2f}%\")\n"
   ]
  },
  {
   "cell_type": "code",
   "execution_count": null,
   "metadata": {},
   "outputs": [
    {
     "name": "stdout",
     "output_type": "stream",
     "text": [
      "[0 1 2 ... 2 2 0]\n"
     ]
    },
    {
     "name": "stderr",
     "output_type": "stream",
     "text": [
      "c:\\Users\\NewDat\\Miniconda3\\Lib\\site-packages\\sklearn\\linear_model\\_logistic.py:1247: FutureWarning: 'multi_class' was deprecated in version 1.5 and will be removed in 1.7. From then on, it will always use 'multinomial'. Leave it to its default value to avoid this warning.\n",
      "  warnings.warn(\n"
     ]
    },
    {
     "name": "stdout",
     "output_type": "stream",
     "text": [
      "Độ chính xác: 74.92%\n"
     ]
    },
    {
     "name": "stderr",
     "output_type": "stream",
     "text": [
      "c:\\Users\\NewDat\\Miniconda3\\Lib\\site-packages\\sklearn\\linear_model\\_logistic.py:465: ConvergenceWarning: lbfgs failed to converge (status=1):\n",
      "STOP: TOTAL NO. of ITERATIONS REACHED LIMIT.\n",
      "\n",
      "Increase the number of iterations (max_iter) or scale the data as shown in:\n",
      "    https://scikit-learn.org/stable/modules/preprocessing.html\n",
      "Please also refer to the documentation for alternative solver options:\n",
      "    https://scikit-learn.org/stable/modules/linear_model.html#logistic-regression\n",
      "  n_iter_i = _check_optimize_result(\n"
     ]
    }
   ],
   "source": [
    "from sklearn.linear_model import LogisticRegression\n",
    "from sklearn.model_selection import train_test_split\n",
    "from sklearn.preprocessing import OneHotEncoder\n",
    "from sklearn.metrics import accuracy_score\n",
    "\n",
    "df4 = df.copy()\n",
    "\n",
    "df4[continous_feature] = df4[continous_feature].apply(z_score)\n",
    "\n",
    "encoder = OneHotEncoder(sparse_output=False)  \n",
    "\n",
    "x_course_encoded = encoder.fit_transform(df4[['Course']])\n",
    "df4 = df4.drop(columns=['Course'])\n",
    "df4 = pd.concat([df4, pd.DataFrame(x_course_encoded, columns=encoder.get_feature_names_out(['Course']))], axis=1)\n",
    "\n",
    "y_encoded = encoder.fit_transform(df4[['Target']])\n",
    "\n",
    "df4.drop('Target', axis=1, inplace=True)\n",
    "\n",
    "X = df4.to_numpy()\n",
    "y = y_encoded\n",
    "\n",
    "\n",
    "X_train, X_test, y_train, y_test = train_test_split(X, y, test_size=0.2, random_state=42)\n",
    "\n",
    "y_train_labels = y_train.argmax(axis=1)  \n",
    "y_test_labels = y_test.argmax(axis=1)\n",
    "\n",
    "\n",
    "model = LogisticRegression(multi_class='multinomial', solver='lbfgs')\n",
    "model.fit(X_train, y_train_labels)\n",
    "\n",
    "# Dự đoán\n",
    "y_pred = model.predict(X_test)\n",
    "\n",
    "# Đánh giá mô hình\n",
    "acc = accuracy_score(y_test_labels, y_pred)\n",
    "print(f\"Độ chính xác: {acc*100:.2f}%\")\n"
   ]
  }
 ],
 "metadata": {
  "kernelspec": {
   "display_name": "base",
   "language": "python",
   "name": "python3"
  },
  "language_info": {
   "codemirror_mode": {
    "name": "ipython",
    "version": 3
   },
   "file_extension": ".py",
   "mimetype": "text/x-python",
   "name": "python",
   "nbconvert_exporter": "python",
   "pygments_lexer": "ipython3",
   "version": "3.12.3"
  }
 },
 "nbformat": 4,
 "nbformat_minor": 2
}
